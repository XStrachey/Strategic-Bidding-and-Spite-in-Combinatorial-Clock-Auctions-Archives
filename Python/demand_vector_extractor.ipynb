{
 "cells": [
  {
   "cell_type": "markdown",
   "id": "1208aab3",
   "metadata": {},
   "source": [
    "This module provides utility functions to save complex bidder demand dictionaries as JSON files."
   ]
  },
  {
   "cell_type": "code",
   "execution_count": 5,
   "id": "0b082fcb",
   "metadata": {},
   "outputs": [],
   "source": [
    "import pandas as pd\n",
    "import numpy as np\n",
    "import json\n",
    "\n",
    "def save_to_json(bidder_demand_dict, filename):\n",
    "    \"\"\"\n",
    "    Save bidder_demand_dict to a JSON file, ensuring type compatibility.\n",
    "\n",
    "    Parameters:\n",
    "    - bidder_demand_dict: dict, a dictionary with bidders as keys containing quantity and price demand\n",
    "    - filename: str, the name of the output file (e.g., \"bidder_demand_dict.json\")\n",
    "    \"\"\"\n",
    "    # Create a converted dictionary to ensure all data types are JSON serializable\n",
    "    def convert_to_serializable(obj):\n",
    "        \"\"\" Recursively convert non-JSON-serializable types to native Python types. \"\"\"\n",
    "        if isinstance(obj, dict):\n",
    "            return {k: convert_to_serializable(v) for k, v in obj.items()}\n",
    "        elif isinstance(obj, list):\n",
    "            return [convert_to_serializable(item) for item in obj]\n",
    "        elif isinstance(obj, tuple):\n",
    "            return tuple(convert_to_serializable(item) for item in obj)\n",
    "        elif isinstance(obj, (int, float, str)):\n",
    "            return obj\n",
    "        else:\n",
    "            # Attempt to convert to string as a fallback\n",
    "            return str(obj)\n",
    "\n",
    "    # Convert the dictionary to a serializable format\n",
    "    serializable_dict = convert_to_serializable(bidder_demand_dict)\n",
    "    \n",
    "    # Write the converted data to a JSON file\n",
    "    try:\n",
    "        with open(filename, 'w') as f:\n",
    "            json.dump(serializable_dict, f, indent=4)\n",
    "        print(f\"Data successfully saved to file: {filename}\")\n",
    "    except (TypeError, ValueError) as e:\n",
    "        print(f\"Failed to save file: {e}\")\n"
   ]
  },
  {
   "cell_type": "markdown",
   "id": "b2934606",
   "metadata": {},
   "source": [
    "This module provides functions to organize and analyze bid panel data by bidder.\n",
    "The `group_bids_by_bidder` function groups the bidding data into separate DataFrames for each bidder, while `get_bidder_markets` extracts the list of unique markets (defined by `(market_number, category)`) each bidder has participated in, returning the results as a dictionary."
   ]
  },
  {
   "cell_type": "code",
   "execution_count": 6,
   "id": "60c31cd8",
   "metadata": {},
   "outputs": [],
   "source": [
    "def group_bids_by_bidder(bid_data):\n",
    "    \"\"\"\n",
    "    Group bid panel data by the 'bidder' column and return a list of DataFrames, \n",
    "    each corresponding to a single bidder.\n",
    "\n",
    "    Parameters:\n",
    "    - bid_data: pandas DataFrame, containing the bid panel data\n",
    "\n",
    "    Returns:\n",
    "    - list: a list of DataFrames, each containing data for one bidder\n",
    "    \"\"\"\n",
    "    # Group by 'bidder' column\n",
    "    bidder_groups = [group for _, group in bid_data.groupby('bidder')]\n",
    "    return bidder_groups\n",
    "\n",
    "def get_bidder_markets(bidder_groups):\n",
    "    \"\"\"\n",
    "    Identify all markets each bidder has placed bids in across all rounds,\n",
    "    and return the results as a dictionary.\n",
    "\n",
    "    Parameters:\n",
    "    - bidder_groups: list, a list of DataFrames, each containing data for a single bidder\n",
    "\n",
    "    Returns:\n",
    "    - dict: a dictionary where each key is a bidder, and the value is a list of (market_number, category) tuples\n",
    "    \"\"\"\n",
    "    bidder_market_dict = {}\n",
    "\n",
    "    for bidder_data in bidder_groups:\n",
    "        # Get the bidder's ID\n",
    "        bidder_id = bidder_data['bidder'].iloc[0]\n",
    "        \n",
    "        # Get a list of unique (market_number, category) tuples the bidder has bid in\n",
    "        markets = list(\n",
    "            bidder_data[['market_number', 'category']]\n",
    "            .drop_duplicates()\n",
    "            .apply(tuple, axis=1)\n",
    "        )\n",
    "        \n",
    "        # Store in dictionary\n",
    "        bidder_market_dict[bidder_id] = markets\n",
    "\n",
    "    return bidder_market_dict\n",
    "\n"
   ]
  },
  {
   "cell_type": "markdown",
   "id": "498ae470",
   "metadata": {},
   "source": [
    "This function computes each bidder’s **round-level demand vectors**, including quantity, price, and rivals’ quantity, for all the markets they participated in.\n",
    "\n",
    "It takes grouped bidder data and a bidder-to-market mapping as input, and returns a dictionary mapping each bidder to a list of tuples—each tuple representing a round with its corresponding demand vectors."
   ]
  },
  {
   "cell_type": "code",
   "execution_count": 7,
   "id": "524a2e3e",
   "metadata": {},
   "outputs": [],
   "source": [
    "def calculate_round_demand_by_bidder(bidder_groups, bidder_market_dict):\n",
    "    \"\"\"\n",
    "    Calculate each bidder's demand vectors (quantity, price, rivals' quantity) \n",
    "    for each round, along with the round number.\n",
    "\n",
    "    Parameters:\n",
    "    - bidder_groups: list, a list of DataFrames, each containing data for one bidder\n",
    "    - bidder_market_dict: dict, a dictionary mapping each bidder to their list of (market_number, category) tuples\n",
    "\n",
    "    Returns:\n",
    "    - dict: a dictionary mapping each bidder to a list of tuples, \n",
    "            each containing (round_id, quantity_vector, price_vector, rivals_quantity_vector)\n",
    "    \"\"\"\n",
    "    bidder_demand_dict = {}\n",
    "\n",
    "    for bidder_data in bidder_groups:\n",
    "        bidder_id = bidder_data['bidder'].iloc[0]\n",
    "        markets = bidder_market_dict[bidder_id]\n",
    "        round_demand_list = []\n",
    "\n",
    "        # Group by round to extract demand vectors per round\n",
    "        for round_id, round_data in bidder_data.groupby('round'):\n",
    "            quantity_vector = []\n",
    "            price_vector = []\n",
    "            rivals_quantity_vector = []\n",
    "\n",
    "            # Loop through all markets the bidder has participated in\n",
    "            for market in markets:\n",
    "                market_data = round_data[\n",
    "                    (round_data['market_number'] == market[0]) &\n",
    "                    (round_data['category'] == market[1])\n",
    "                ]\n",
    "\n",
    "                if not market_data.empty:\n",
    "                    quantity = int(market_data['quantity'].iloc[0])\n",
    "                    price = int(market_data['bid_amount'].iloc[0])\n",
    "                    rivals_quantity = (\n",
    "                        0 if np.isnan(market_data['aggregate_rivals_quantity'].iloc[0])\n",
    "                        else int(market_data['aggregate_rivals_quantity'].iloc[0])\n",
    "                    )\n",
    "                else:\n",
    "                    quantity = 0\n",
    "                    price = 0\n",
    "                    rivals_quantity = 0\n",
    "\n",
    "                quantity_vector.append(quantity)\n",
    "                price_vector.append(price)\n",
    "                rivals_quantity_vector.append(rivals_quantity)\n",
    "\n",
    "            # Append the demand vector tuple for this round\n",
    "            round_demand_list.append((\n",
    "                round_id, quantity_vector, price_vector, rivals_quantity_vector\n",
    "            ))\n",
    "\n",
    "        bidder_demand_dict[bidder_id] = round_demand_list\n",
    "\n",
    "    return bidder_demand_dict\n"
   ]
  },
  {
   "cell_type": "markdown",
   "id": "46f25ed7",
   "metadata": {},
   "source": [
    "This script reads preprocessed bidding data and computes **per-bidder, per-round demand vectors** for all participating markets. It performs the following steps:\n",
    "\n",
    "1. **Loads** the bidding panel data from CSV.\n",
    "2. **Groups** bids by each bidder using `group_bids_by_bidder`.\n",
    "3. **Identifies** all markets each bidder participated in via `get_bidder_markets`.\n",
    "4. **Computes** round-level demand vectors—quantities, prices, and rivals’ quantities—using `calculate_round_demand_by_bidder`."
   ]
  },
  {
   "cell_type": "code",
   "execution_count": 8,
   "id": "e9abf8e8",
   "metadata": {},
   "outputs": [
    {
     "name": "stderr",
     "output_type": "stream",
     "text": [
      "/var/folders/_x/43n5hx2d6hqf1v6v65qbln8c0000gn/T/ipykernel_27548/3618610456.py:1: DtypeWarning: Columns (11,12) have mixed types. Specify dtype option on import or set low_memory=False.\n",
      "  bids_data = pd.read_csv(\"../data/processed data/clock_bids_with_rival_qty.csv\")  # 示例路径\n"
     ]
    },
    {
     "name": "stdout",
     "output_type": "stream",
     "text": [
      "44\n",
      "[('PEA001', 'A'), ('PEA001', 'BC'), ('PEA002', 'A'), ('PEA002', 'BC'), ('PEA003', 'A'), ('PEA003', 'BC'), ('PEA004', 'A'), ('PEA004', 'BC'), ('PEA005', 'ABC'), ('PEA006', 'A'), ('PEA006', 'BC'), ('PEA007', 'A'), ('PEA007', 'BC'), ('PEA008', 'A'), ('PEA008', 'BC'), ('PEA009', 'A'), ('PEA009', 'BC'), ('PEA010', 'A'), ('PEA010', 'BC'), ('PEA011', 'ABC'), ('PEA012', 'A'), ('PEA012', 'BC'), ('PEA013', 'A'), ('PEA013', 'BC'), ('PEA014', 'A'), ('PEA014', 'BC'), ('PEA015', 'A'), ('PEA015', 'BC'), ('PEA016', 'A'), ('PEA016', 'BC'), ('PEA017', 'A'), ('PEA017', 'BC'), ('PEA018', 'A'), ('PEA018', 'BC'), ('PEA020', 'ABC'), ('PEA021', 'A'), ('PEA021', 'BC'), ('PEA024', 'A'), ('PEA024', 'BC'), ('PEA026', 'A'), ('PEA026', 'BC'), ('PEA027', 'A'), ('PEA027', 'BC'), ('PEA028', 'A'), ('PEA028', 'BC'), ('PEA029', 'A'), ('PEA029', 'BC'), ('PEA030', 'A'), ('PEA030', 'BC'), ('PEA031', 'A'), ('PEA031', 'BC'), ('PEA034', 'A'), ('PEA034', 'BC'), ('PEA035', 'A'), ('PEA035', 'BC'), ('PEA036', 'A'), ('PEA036', 'BC'), ('PEA037', 'A'), ('PEA037', 'BC'), ('PEA038', 'A'), ('PEA038', 'BC'), ('PEA039', 'A'), ('PEA039', 'BC'), ('PEA047', 'A'), ('PEA047', 'BC'), ('PEA051', 'ABC'), ('PEA054', 'ABC'), ('PEA059', 'ABC'), ('PEA065', 'ABC'), ('PEA066', 'ABC'), ('PEA067', 'ABC'), ('PEA069', 'ABC'), ('PEA073', 'ABC'), ('PEA075', 'ABC'), ('PEA078', 'ABC'), ('PEA085', 'ABC'), ('PEA094', 'ABC'), ('PEA108', 'ABC'), ('PEA056', 'ABC'), ('PEA074', 'ABC'), ('PEA098', 'ABC'), ('PEA100', 'ABC'), ('PEA106', 'ABC'), ('PEA113', 'ABC'), ('PEA116', 'ABC'), ('PEA117', 'ABC'), ('PEA123', 'ABC'), ('PEA128', 'ABC'), ('PEA134', 'ABC'), ('PEA135', 'ABC'), ('PEA136', 'ABC'), ('PEA147', 'ABC'), ('PEA164', 'ABC'), ('PEA165', 'ABC'), ('PEA168', 'ABC'), ('PEA169', 'ABC'), ('PEA184', 'ABC'), ('PEA189', 'ABC'), ('PEA191', 'ABC'), ('PEA192', 'ABC'), ('PEA197', 'ABC'), ('PEA202', 'ABC'), ('PEA210', 'ABC'), ('PEA216', 'ABC'), ('PEA222', 'ABC'), ('PEA225', 'ABC'), ('PEA228', 'ABC'), ('PEA230', 'ABC'), ('PEA239', 'ABC'), ('PEA240', 'ABC'), ('PEA242', 'ABC'), ('PEA256', 'ABC'), ('PEA284', 'ABC'), ('PEA291', 'ABC'), ('PEA296', 'ABC'), ('PEA301', 'ABC'), ('PEA309', 'ABC'), ('PEA319', 'ABC'), ('PEA321', 'ABC'), ('PEA324', 'ABC'), ('PEA327', 'ABC'), ('PEA385', 'ABC'), ('PEA032', 'BC'), ('PEA040', 'BC'), ('PEA041', 'BC'), ('PEA043', 'BC'), ('PEA044', 'BC'), ('PEA046', 'BC'), ('PEA048', 'BC'), ('PEA049', 'BC'), ('PEA050', 'BC'), ('PEA019', 'A'), ('PEA022', 'A'), ('PEA023', 'A'), ('PEA025', 'A'), ('PEA032', 'A'), ('PEA033', 'A'), ('PEA040', 'A'), ('PEA043', 'A'), ('PEA045', 'A'), ('PEA048', 'A'), ('PEA050', 'A'), ('PEA019', 'BC'), ('PEA022', 'BC'), ('PEA023', 'BC'), ('PEA025', 'BC'), ('PEA033', 'BC'), ('PEA045', 'BC'), ('PEA053', 'ABC'), ('PEA055', 'ABC'), ('PEA058', 'ABC'), ('PEA061', 'ABC'), ('PEA062', 'ABC'), ('PEA064', 'ABC'), ('PEA068', 'ABC'), ('PEA070', 'ABC'), ('PEA076', 'ABC'), ('PEA082', 'ABC'), ('PEA083', 'ABC'), ('PEA084', 'ABC'), ('PEA086', 'ABC'), ('PEA087', 'ABC'), ('PEA090', 'ABC'), ('PEA091', 'ABC'), ('PEA093', 'ABC'), ('PEA101', 'ABC'), ('PEA104', 'ABC'), ('PEA111', 'ABC'), ('PEA114', 'ABC'), ('PEA132', 'ABC'), ('PEA148', 'ABC'), ('PEA151', 'ABC'), ('PEA156', 'ABC'), ('PEA175', 'ABC'), ('PEA220', 'ABC'), ('PEA247', 'ABC'), ('PEA052', 'ABC'), ('PEA057', 'ABC'), ('PEA060', 'ABC'), ('PEA063', 'ABC'), ('PEA071', 'ABC'), ('PEA072', 'ABC'), ('PEA077', 'ABC'), ('PEA080', 'ABC'), ('PEA081', 'ABC'), ('PEA088', 'ABC'), ('PEA089', 'ABC'), ('PEA092', 'ABC'), ('PEA102', 'ABC'), ('PEA105', 'ABC'), ('PEA109', 'ABC'), ('PEA115', 'ABC'), ('PEA118', 'ABC'), ('PEA119', 'ABC'), ('PEA120', 'ABC'), ('PEA122', 'ABC'), ('PEA124', 'ABC'), ('PEA125', 'ABC'), ('PEA126', 'ABC'), ('PEA127', 'ABC'), ('PEA129', 'ABC'), ('PEA130', 'ABC'), ('PEA131', 'ABC'), ('PEA133', 'ABC'), ('PEA140', 'ABC'), ('PEA142', 'ABC'), ('PEA144', 'ABC'), ('PEA146', 'ABC'), ('PEA149', 'ABC'), ('PEA152', 'ABC'), ('PEA153', 'ABC'), ('PEA154', 'ABC'), ('PEA155', 'ABC'), ('PEA157', 'ABC'), ('PEA160', 'ABC'), ('PEA162', 'ABC'), ('PEA163', 'ABC'), ('PEA166', 'ABC'), ('PEA167', 'ABC'), ('PEA171', 'ABC'), ('PEA174', 'ABC'), ('PEA177', 'ABC'), ('PEA180', 'ABC'), ('PEA181', 'ABC'), ('PEA183', 'ABC'), ('PEA186', 'ABC'), ('PEA187', 'ABC'), ('PEA193', 'ABC'), ('PEA194', 'ABC'), ('PEA195', 'ABC'), ('PEA198', 'ABC'), ('PEA200', 'ABC'), ('PEA201', 'ABC'), ('PEA204', 'ABC'), ('PEA205', 'ABC'), ('PEA206', 'ABC'), ('PEA208', 'ABC'), ('PEA209', 'ABC'), ('PEA213', 'ABC'), ('PEA214', 'ABC'), ('PEA215', 'ABC'), ('PEA217', 'ABC'), ('PEA218', 'ABC'), ('PEA221', 'ABC'), ('PEA224', 'ABC'), ('PEA226', 'ABC'), ('PEA229', 'ABC'), ('PEA232', 'ABC'), ('PEA233', 'ABC'), ('PEA234', 'ABC'), ('PEA235', 'ABC'), ('PEA238', 'ABC'), ('PEA244', 'ABC'), ('PEA246', 'ABC'), ('PEA248', 'ABC'), ('PEA249', 'ABC'), ('PEA250', 'ABC'), ('PEA259', 'ABC'), ('PEA261', 'ABC'), ('PEA262', 'ABC'), ('PEA263', 'ABC'), ('PEA266', 'ABC'), ('PEA267', 'ABC'), ('PEA268', 'ABC'), ('PEA269', 'ABC'), ('PEA270', 'ABC'), ('PEA273', 'ABC'), ('PEA274', 'ABC'), ('PEA277', 'ABC'), ('PEA279', 'ABC'), ('PEA281', 'ABC'), ('PEA287', 'ABC'), ('PEA288', 'ABC'), ('PEA289', 'ABC'), ('PEA292', 'ABC'), ('PEA295', 'ABC'), ('PEA302', 'ABC'), ('PEA304', 'ABC'), ('PEA306', 'ABC'), ('PEA312', 'ABC'), ('PEA313', 'ABC'), ('PEA320', 'ABC'), ('PEA323', 'ABC'), ('PEA329', 'ABC'), ('PEA331', 'ABC'), ('PEA333', 'ABC'), ('PEA336', 'ABC'), ('PEA337', 'ABC'), ('PEA338', 'ABC'), ('PEA340', 'ABC'), ('PEA358', 'ABC'), ('PEA362', 'ABC'), ('PEA363', 'ABC'), ('PEA366', 'ABC'), ('PEA373', 'ABC'), ('PEA376', 'ABC'), ('PEA381', 'ABC'), ('PEA405', 'ABC'), ('PEA409', 'ABC'), ('PEA107', 'ABC')]\n",
      "300\n",
      "(5, [4, 5, 4, 4, 4, 4, 4, 5, 8, 4, 4, 4, 4, 4, 4, 4, 4, 4, 4, 8, 4, 4, 4, 4, 4, 4, 4, 4, 4, 4, 4, 4, 4, 4, 8, 4, 4, 4, 4, 4, 4, 4, 4, 4, 4, 4, 4, 4, 4, 4, 4, 4, 4, 4, 4, 4, 4, 4, 4, 4, 4, 4, 4, 4, 4, 8, 8, 8, 8, 8, 8, 8, 8, 8, 8, 8, 8, 8, 0, 0, 0, 0, 0, 0, 0, 0, 0, 0, 0, 0, 0, 0, 0, 0, 0, 0, 0, 0, 0, 0, 0, 0, 0, 0, 0, 0, 0, 0, 0, 0, 0, 0, 0, 0, 0, 0, 0, 0, 0, 0, 0, 0, 0, 0, 0, 0, 0, 0, 0, 0, 0, 0, 0, 0, 0, 0, 0, 0, 0, 0, 0, 0, 0, 0, 0, 0, 0, 0, 0, 0, 0, 0, 0, 0, 0, 0, 0, 0, 0, 0, 0, 0, 0, 0, 0, 0, 0, 0, 0, 0, 0, 0, 0, 0, 0, 0, 0, 0, 0, 0, 0, 0, 0, 0, 0, 0, 0, 0, 0, 0, 0, 0, 0, 0, 0, 0, 0, 0, 0, 0, 0, 0, 0, 0, 0, 0, 0, 0, 0, 0, 0, 0, 0, 0, 0, 0, 0, 0, 0, 0, 0, 0, 0, 0, 0, 0, 0, 0, 0, 0, 0, 0, 0, 0, 0, 0, 0, 0, 0, 0, 0, 0, 0, 0, 0, 0, 0, 0, 0, 0, 0, 0, 0, 0, 0, 0, 0, 0, 0, 0, 0, 0, 0, 0, 0, 0, 0, 0, 0, 0, 0, 0, 0, 0, 0, 0, 0, 0, 0, 0, 0, 0, 0, 0, 0, 0, 0, 0, 0, 0, 0, 0, 0, 0, 0, 0, 0, 0, 0, 0], [22172000, 22172000, 17054000, 17054000, 8231000, 8231000, 7933000, 7933000, 6891000, 6666000, 6666000, 5956000, 5956000, 5670000, 5670000, 5529000, 5529000, 5177000, 5177000, 4777000, 4516000, 4516000, 4011000, 4011000, 3601000, 3601000, 3354000, 3354000, 3333000, 3333000, 2980000, 2980000, 2721000, 2721000, 2453000, 2447000, 2447000, 2108000, 2108000, 1894000, 1894000, 1884000, 1884000, 1758000, 1758000, 1688000, 1688000, 1592000, 1592000, 1556000, 1556000, 1474000, 1474000, 1433000, 1433000, 1427000, 1427000, 1392000, 1392000, 1370000, 1370000, 1273000, 1273000, 1111000, 1111000, 212000, 201000, 185000, 168000, 165000, 160000, 153000, 142000, 141000, 140000, 126000, 115000, 51000, 0, 0, 0, 0, 0, 0, 0, 0, 0, 0, 0, 0, 0, 0, 0, 0, 0, 0, 0, 0, 0, 0, 0, 0, 0, 0, 0, 0, 0, 0, 0, 0, 0, 0, 0, 0, 0, 0, 0, 0, 0, 0, 0, 0, 0, 0, 0, 0, 0, 0, 0, 0, 0, 0, 0, 0, 0, 0, 0, 0, 0, 0, 0, 0, 0, 0, 0, 0, 0, 0, 0, 0, 0, 0, 0, 0, 0, 0, 0, 0, 0, 0, 0, 0, 0, 0, 0, 0, 0, 0, 0, 0, 0, 0, 0, 0, 0, 0, 0, 0, 0, 0, 0, 0, 0, 0, 0, 0, 0, 0, 0, 0, 0, 0, 0, 0, 0, 0, 0, 0, 0, 0, 0, 0, 0, 0, 0, 0, 0, 0, 0, 0, 0, 0, 0, 0, 0, 0, 0, 0, 0, 0, 0, 0, 0, 0, 0, 0, 0, 0, 0, 0, 0, 0, 0, 0, 0, 0, 0, 0, 0, 0, 0, 0, 0, 0, 0, 0, 0, 0, 0, 0, 0, 0, 0, 0, 0, 0, 0, 0, 0, 0, 0, 0, 0, 0, 0, 0, 0, 0, 0, 0, 0, 0, 0, 0, 0, 0, 0, 0, 0, 0, 0, 0, 0, 0, 0, 0, 0, 0, 0, 0, 0, 0, 0, 0, 0, 0, 0, 0, 0, 0], [18, 28, 16, 22, 15, 26, 15, 21, 32, 15, 14, 15, 14, 15, 14, 15, 14, 15, 14, 27, 15, 12, 15, 16, 15, 16, 15, 16, 15, 13, 15, 12, 15, 15, 26, 15, 11, 15, 11, 18, 13, 19, 11, 15, 11, 15, 11, 15, 11, 15, 11, 10, 11, 15, 7, 10, 12, 10, 7, 15, 7, 15, 8, 10, 9, 17, 18, 17, 22, 17, 29, 19, 22, 34, 22, 22, 24, 17, 0, 0, 0, 0, 0, 0, 0, 0, 0, 0, 0, 0, 0, 0, 0, 0, 0, 0, 0, 0, 0, 0, 0, 0, 0, 0, 0, 0, 0, 0, 0, 0, 0, 0, 0, 0, 0, 0, 0, 0, 0, 0, 0, 0, 0, 0, 0, 0, 0, 0, 0, 0, 0, 0, 0, 0, 0, 0, 0, 0, 0, 0, 0, 0, 0, 0, 0, 0, 0, 0, 0, 0, 0, 0, 0, 0, 0, 0, 0, 0, 0, 0, 0, 0, 0, 0, 0, 0, 0, 0, 0, 0, 0, 0, 0, 0, 0, 0, 0, 0, 0, 0, 0, 0, 0, 0, 0, 0, 0, 0, 0, 0, 0, 0, 0, 0, 0, 0, 0, 0, 0, 0, 0, 0, 0, 0, 0, 0, 0, 0, 0, 0, 0, 0, 0, 0, 0, 0, 0, 0, 0, 0, 0, 0, 0, 0, 0, 0, 0, 0, 0, 0, 0, 0, 0, 0, 0, 0, 0, 0, 0, 0, 0, 0, 0, 0, 0, 0, 0, 0, 0, 0, 0, 0, 0, 0, 0, 0, 0, 0, 0, 0, 0, 0, 0, 0, 0, 0, 0, 0, 0, 0, 0, 0, 0, 0, 0, 0, 0, 0, 0, 0, 0, 0, 0, 0, 0, 0, 0, 0, 0, 0, 0, 0, 0, 0, 0, 0, 0, 0, 0, 0])\n",
      "97\n",
      "Data successfully saved to file: ../data/processed data/bidder_demand_dict.json\n"
     ]
    }
   ],
   "source": [
    "bids_data = pd.read_csv(\"../data/processed data/clock_bids_with_rival_qty.csv\")  # 示例路径\n",
    "\n",
    "# Apply the function and print the number of bidder groups\n",
    "bidder_groups = group_bids_by_bidder(bids_data)\n",
    "print(len(bidder_groups))\n",
    "\n",
    "bidder_market_dict = get_bidder_markets(bidder_groups)\n",
    "print(bidder_market_dict['T-Mobile License LLC'])\n",
    "print(len(bidder_market_dict['T-Mobile License LLC']))\n",
    "\n",
    "bidder_demand_dict = calculate_round_demand_by_bidder(bidder_groups, bidder_market_dict)\n",
    "print(bidder_demand_dict['T-Mobile License LLC'][4])\n",
    "print(len(bidder_demand_dict['T-Mobile License LLC']))\n",
    "\n",
    "save_to_json(bidder_demand_dict, \"../data/processed data/bidder_demand_dict.json\")"
   ]
  }
 ],
 "metadata": {
  "kernelspec": {
   "display_name": "base",
   "language": "python",
   "name": "python3"
  },
  "language_info": {
   "codemirror_mode": {
    "name": "ipython",
    "version": 3
   },
   "file_extension": ".py",
   "mimetype": "text/x-python",
   "name": "python",
   "nbconvert_exporter": "python",
   "pygments_lexer": "ipython3",
   "version": "3.11.8"
  }
 },
 "nbformat": 4,
 "nbformat_minor": 5
}

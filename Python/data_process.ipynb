{
 "cells": [
  {
   "cell_type": "code",
   "execution_count": 1,
   "id": "d2094b29",
   "metadata": {},
   "outputs": [
    {
     "name": "stderr",
     "output_type": "stream",
     "text": [
      "/var/folders/_x/43n5hx2d6hqf1v6v65qbln8c0000gn/T/ipykernel_27536/2231652558.py:4: DtypeWarning: Columns (12,13) have mixed types. Specify dtype option on import or set low_memory=False.\n",
      "  clock_bids = pd.read_csv(\"../data/raw data/clock_bids.csv\").drop(columns=[\"auction_id\"])\n"
     ]
    }
   ],
   "source": [
    "import pandas as pd\n",
    "\n",
    "# Clock Phase\n",
    "clock_bids = pd.read_csv(\"../data/raw data/clock_bids.csv\").drop(columns=[\"auction_id\"])\n",
    "\n",
    "# For each group defined by round, market_number, and category,\n",
    "# calculate the total quantity of rivals by subtracting the current bidder's quantity\n",
    "clock_bids[\"aggregate_rivals_quantity\"] = (\n",
    "    clock_bids.groupby([\"round\", \"market_number\", \"category\"])[\"quantity\"]\n",
    "    .transform(\"sum\") - clock_bids[\"quantity\"]\n",
    ")\n",
    "\n",
    "# Save the modified DataFrame to a CSV file without row indices\n",
    "clock_bids.to_csv(\"../data/processed data/clock_bids_with_rival_qty.csv\", index=False)"
   ]
  }
 ],
 "metadata": {
  "kernelspec": {
   "display_name": "base",
   "language": "python",
   "name": "python3"
  },
  "language_info": {
   "codemirror_mode": {
    "name": "ipython",
    "version": 3
   },
   "file_extension": ".py",
   "mimetype": "text/x-python",
   "name": "python",
   "nbconvert_exporter": "python",
   "pygments_lexer": "ipython3",
   "version": "3.11.8"
  }
 },
 "nbformat": 4,
 "nbformat_minor": 5
}
